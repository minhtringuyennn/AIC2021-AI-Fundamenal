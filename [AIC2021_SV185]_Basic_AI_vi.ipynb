{
  "nbformat": 4,
  "nbformat_minor": 0,
  "metadata": {
    "colab": {
      "name": "[AIC2021-SV185]_Basic_AI_vi.ipynb",
      "provenance": [],
      "collapsed_sections": [],
      "machine_shape": "hm"
    },
    "interpreter": {
      "hash": "380030d1298d5a27518acca789ff38fe82bbf2e68b73263de6a6bf23efb7704c"
    },
    "kernelspec": {
      "display_name": "Python 3",
      "language": "python",
      "name": "python3"
    },
    "language_info": {
      "codemirror_mode": {
        "name": "ipython",
        "version": 3
      },
      "file_extension": ".py",
      "mimetype": "text/x-python",
      "name": "python",
      "nbconvert_exporter": "python",
      "pygments_lexer": "ipython3",
      "version": "3.8.3"
    }
  },
  "cells": [
    {
      "cell_type": "markdown",
      "source": [
        "<center> \n",
        "<img src=\"https://scontent.xx.fbcdn.net/v/t1.15752-9/268445948_1539402106418218_5934548637776862378_n.png?_nc_cat=110&ccb=1-5&_nc_sid=aee45a&_nc_ohc=2MgjXUEFY30AX-eC0SG&_nc_ad=z-m&_nc_cid=0&_nc_ht=scontent.xx&oh=03_AVJDL58MXXsv1KwlBdJ-Ag_SD3b6WAivMfLCjEIDHQPaIA&oe=61E501D8\" >\n",
        "\n",
        "<!-- ![](https://scontent.fsgn3-1.fna.fbcdn.net/v/t1.6435-9/132706809_2932119663557074_606104806870053595_n.jpg?_nc_cat=104&ccb=1-5&_nc_sid=e3f864&_nc_ohc=zA_6Mk-TxMcAX_dUF-f&_nc_ht=scontent.fsgn3-1.fna&oh=00_AT9cyhjnJep8nTBclIzEWXpVevj5way3qygCB9fLC6OA2Q&oe=61E621CE) -->"
      ],
      "metadata": {
        "id": "HR7dVBxinfvD"
      }
    },
    {
      "cell_type": "markdown",
      "source": [
        "Thông tin cá nhân: Sinh viên Đại học Khoa học Tự Nhiên - ĐHQG HCM\n",
        "\n",
        "Họ và tên: Nguyễn Minh Trí\n",
        "\n",
        "Mã số: AIC2021 - SV185\n",
        "\n",
        "Các thông tin khác (nếu có): \n",
        "SĐT: 0911271505\n",
        "Email: contact@minhtringuyennn.com"
      ],
      "metadata": {
        "id": "2AVzXu2ElWDi"
      }
    },
    {
      "cell_type": "markdown",
      "source": [
        "# <center> **KIỂM TRA** </center>\n",
        "\n",
        "---"
      ],
      "metadata": {
        "id": "YeWcF0vSnfpw"
      }
    },
    {
      "cell_type": "markdown",
      "metadata": {
        "id": "0MRC0e0KhQ0S"
      },
      "source": [
        "# Đề bài"
      ]
    },
    {
      "cell_type": "markdown",
      "source": [
        "Thời gian làm bài: 30 phút"
      ],
      "metadata": {
        "id": "Pa-sXcoOlPE8"
      }
    },
    {
      "cell_type": "markdown",
      "source": [
        "Cho trước tập dữ liệu *'[Churn_Modelling.csv](https://drive.google.com/file/d/1LfYY5Fkfrowc1me_zxHqoUiKwEyBO2X6/view?usp=sharing)'* thể hiện quyết định của người dùng sẽ **đóng tài khoản** hoặc **tiếp tục duy trì việc sử dụng tài khoản ngân hàng** dựa trên các thông tin của người dùng đó.\n",
        "\n",
        "Yêu cầu:\n",
        "1. Khởi tạo và huấn luyện mô hình mạng nơ-ron nhân tạo (ANN).\n",
        "2. Sử dụng mô hình đã huấn luyện để dự đoán trên một điểm dữ liệu mới bất kì, và tính độ chính xác accuracy của mô hình trên tập kiểm tra Test set. <br>"
      ],
      "metadata": {
        "id": "LbiE92E-q51n"
      }
    },
    {
      "cell_type": "markdown",
      "source": [
        "Cách làm: Thêm các dòng code, đoạn code cần thiết vào các vị trí có kí hiệu # INSERT YOUR CODE\n",
        "\n",
        "Link nộp bài: <sẽ cập nhật sớm>\n",
        "\n",
        "Format tên nộp: [<mã số]_Họ_tên_Basic_AI_vi.ipynb"
      ],
      "metadata": {
        "id": "z9rplCUNglXQ"
      }
    },
    {
      "cell_type": "markdown",
      "source": [
        "# Bài làm"
      ],
      "metadata": {
        "id": "3Sej3zLefYaR"
      }
    },
    {
      "cell_type": "markdown",
      "metadata": {
        "id": "LWd1UlMnhT2s"
      },
      "source": [
        "## Khai báo thư viện"
      ]
    },
    {
      "cell_type": "code",
      "metadata": {
        "id": "YvGPUQaHhXfL"
      },
      "source": [
        "# hãy khai báo các thư viện mà bạn thấy cần thiết\n",
        "%matplotlib inline\n",
        "import pandas as pd\n",
        "import numpy as np\n",
        "import matplotlib.pyplot as plt\n",
        "import keras\n",
        "from keras.models import Sequential\n",
        "from keras.layers import Dense"
      ],
      "execution_count": null,
      "outputs": []
    },
    {
      "cell_type": "markdown",
      "metadata": {
        "id": "K1VMqkGvhc3-"
      },
      "source": [
        "## Bước 1: Đọc dữ liệu"
      ]
    },
    {
      "cell_type": "code",
      "metadata": {
        "id": "M52QDmyzhh9s",
        "colab": {
          "base_uri": "https://localhost:8080/"
        },
        "outputId": "62522d31-608d-4bcd-b647-eeaaeb7baeac"
      },
      "source": [
        "# tải xuống tập dữ liệu Churn_Modelling\n",
        "!gdown --id 1LfYY5Fkfrowc1me_zxHqoUiKwEyBO2X6\n",
        "\n",
        "# đọc dữ liệu từ file 'Churn_Modelling.csv'\n",
        "dataset = pd.read_csv(\"/content/Churn_Modelling.csv\")\n",
        "\n",
        "dataset.shape\n",
        "dataset.columns"
      ],
      "execution_count": null,
      "outputs": [
        {
          "output_type": "stream",
          "name": "stdout",
          "text": [
            "Downloading...\n",
            "From: https://drive.google.com/uc?id=1LfYY5Fkfrowc1me_zxHqoUiKwEyBO2X6\n",
            "To: /content/Churn_Modelling.csv\n",
            "\r  0% 0.00/685k [00:00<?, ?B/s]\r100% 685k/685k [00:00<00:00, 37.2MB/s]\n"
          ]
        },
        {
          "output_type": "execute_result",
          "data": {
            "text/plain": [
              "Index(['RowNumber', 'CustomerId', 'Surname', 'CreditScore', 'Geography',\n",
              "       'Gender', 'Age', 'Tenure', 'Balance', 'NumOfProducts', 'HasCrCard',\n",
              "       'IsActiveMember', 'EstimatedSalary', 'Exited'],\n",
              "      dtype='object')"
            ]
          },
          "metadata": {},
          "execution_count": 2
        }
      ]
    },
    {
      "cell_type": "markdown",
      "source": [
        "## Câu hỏi: Bạn có nhận xét gì về tập dữ liệu này? <br>\n",
        "\n",
        "Trả lời: <Thêm câu trả lời của bạn ở đây>\n",
        "\n",
        ". Tập dữ liệu có 10000 khách hàng và 14 thuộc tính về khách hàng (thông tin cá nhân, sản phẩm họ đang sử dụng)\n",
        "\n",
        ". Có một số cột không cần thiết như RowNumber, 2 trường dữ liệu không cần cho việc học máy như CustomerId và Surname\n",
        "\n",
        ". Credit score trải dài từ 350 đến 850 theo phân phối chuẩn\n",
        "\n",
        ". Khách hàng tập trung ở các nước Châu Âu\n",
        "\n",
        ". Tuổi khách hàng chiếm đa số < 60, với độ tuổi từ 30 - 40 chiếm tỉ trọng cao nhất."
      ],
      "metadata": {
        "id": "azi5OoJVkrvb"
      }
    },
    {
      "cell_type": "markdown",
      "source": [
        "Phân tích/Trực quan hóa một số thuộc tính của dữ liệu"
      ],
      "metadata": {
        "id": "BZtABag8P2np"
      }
    },
    {
      "cell_type": "code",
      "source": [
        "# đếm số lượng mẫu của các phân lớp\n",
        "dataset['CreditScore'].value_counts()\n",
        "dataset['Age'].value_counts()\n"
      ],
      "metadata": {
        "id": "fIeGoDWuPW2f",
        "colab": {
          "base_uri": "https://localhost:8080/"
        },
        "outputId": "41b24ad0-61d2-4acb-85eb-755128409cad"
      },
      "execution_count": null,
      "outputs": [
        {
          "output_type": "execute_result",
          "data": {
            "text/plain": [
              "37    478\n",
              "38    477\n",
              "35    474\n",
              "36    456\n",
              "34    447\n",
              "     ... \n",
              "92      2\n",
              "88      1\n",
              "82      1\n",
              "85      1\n",
              "83      1\n",
              "Name: Age, Length: 70, dtype: int64"
            ]
          },
          "metadata": {},
          "execution_count": 3
        }
      ]
    },
    {
      "cell_type": "code",
      "source": [
        "# trực quan hóa phân bố của thuộc tính \"Age\"\n",
        "fig, ax = plt.subplots()\n",
        "dataset['Age'].plot.kde(ax = ax, legend = True)\n",
        "dataset['Age'].plot.hist(density=True, ax=ax)\n",
        "plt.show"
      ],
      "metadata": {
        "id": "v83niOqGQFur",
        "colab": {
          "base_uri": "https://localhost:8080/",
          "height": 283
        },
        "outputId": "90f91ff1-3630-485e-c4be-36c34efb66b0"
      },
      "execution_count": null,
      "outputs": [
        {
          "output_type": "execute_result",
          "data": {
            "text/plain": [
              "<function matplotlib.pyplot.show>"
            ]
          },
          "metadata": {},
          "execution_count": 4
        },
        {
          "output_type": "display_data",
          "data": {
            "image/png": "[encoded data removed]",
            "text/plain": [
              "<Figure size 432x288 with 1 Axes>"
            ]
          },
          "metadata": {
            "needs_background": "light"
          }
        }
      ]
    },
    {
      "cell_type": "code",
      "source": [
        "# trực quan hóa phân bố của thuộc tính \"CreditScore\"\n",
        "fig, ax = plt.subplots()\n",
        "dataset['CreditScore'].plot.kde(ax = ax, legend = True)\n",
        "dataset['CreditScore'].plot.hist(density=True, ax=ax)\n",
        "plt.show"
      ],
      "metadata": {
        "id": "ECuHyIoyQNH5",
        "colab": {
          "base_uri": "https://localhost:8080/",
          "height": 283
        },
        "outputId": "6fdeec5e-4690-49cf-f716-35f8ea9a99d5"
      },
      "execution_count": null,
      "outputs": [
        {
          "output_type": "execute_result",
          "data": {
            "text/plain": [
              "<function matplotlib.pyplot.show>"
            ]
          },
          "metadata": {},
          "execution_count": 5
        },
        {
          "output_type": "display_data",
          "data": {
            "image/png": "[encoded data removed]",
            "text/plain": [
              "<Figure size 432x288 with 1 Axes>"
            ]
          },
          "metadata": {
            "needs_background": "light"
          }
        }
      ]
    },
    {
      "cell_type": "markdown",
      "source": [
        "## Bước 2: Tiền xử lí dữ liệu"
      ],
      "metadata": {
        "id": "TgEvBk8MuBiv"
      }
    },
    {
      "cell_type": "markdown",
      "metadata": {
        "id": "YvxIPVyMhmKp"
      },
      "source": [
        "Phân chia dữ liệu thành tập huấn luyện Training set và tập kiểm tra Test set"
      ]
    },
    {
      "cell_type": "code",
      "metadata": {
        "id": "AVzJWAXIhxoC",
        "colab": {
          "base_uri": "https://localhost:8080/"
        },
        "outputId": "73f16910-bb5c-4044-be38-f7132d1b5546"
      },
      "source": [
        "from sklearn.model_selection import train_test_split\n",
        "\n",
        "# khai báo các thuộc tính của điểm dữ liệu\n",
        "# có thể bỏ các thuộc tính không cần thiết như Số dòng, Mã Khách hàng, ID khách hàng\n",
        "\n",
        "X = dataset.iloc[:, 3:13].values\n",
        "\n",
        "# khai báo nhãn của điểm dữ liệu\n",
        "y = dataset.iloc[:, 13].values\n",
        "\n",
        "print(\"x: \", X)\n",
        "print(\"y:\", y)\n"
      ],
      "execution_count": null,
      "outputs": [
        {
          "output_type": "stream",
          "name": "stdout",
          "text": [
            "x:  [[619 'France' 'Female' ... 1 1 101348.88]\n",
            " [608 'Spain' 'Female' ... 0 1 112542.58]\n",
            " [502 'France' 'Female' ... 1 0 113931.57]\n",
            " ...\n",
            " [709 'France' 'Female' ... 0 1 42085.58]\n",
            " [772 'Germany' 'Male' ... 1 0 92888.52]\n",
            " [792 'France' 'Female' ... 1 0 38190.78]]\n",
            "y: [1 0 1 ... 1 1 0]\n"
          ]
        }
      ]
    },
    {
      "cell_type": "markdown",
      "source": [
        "Mã hóa các dữ liệu \"non-numerical\""
      ],
      "metadata": {
        "id": "GFYeDyTjcD03"
      }
    },
    {
      "cell_type": "code",
      "source": [
        "from sklearn.preprocessing import LabelEncoder\n",
        "\n",
        "# mã hóa thuộc tính \"Gender\"\n",
        "# gợi ý sử dụng LabelEncoder()\n",
        "le1 = LabelEncoder()\n",
        "le2 = LabelEncoder()\n",
        "\n",
        "# fit_transform các giá trị vừa được mã hóa\n",
        "X[:, 1] = le1.fit_transform(X[:, 1])\n",
        "X[:, 2] = le2.fit_transform(X[:, 2])\n"
      ],
      "metadata": {
        "id": "-6u2MzzvcIRc"
      },
      "execution_count": null,
      "outputs": []
    },
    {
      "cell_type": "code",
      "source": [
        "from sklearn.compose import ColumnTransformer\n",
        "from sklearn.preprocessing import OneHotEncoder\n",
        "\n",
        "# mã hóa thuộc tính \"Geography\"\n",
        "# gợi ý sử dụng ColumnTransformer(), OneHotEncoder\n",
        "ct = ColumnTransformer(\n",
        "    [('one_hot_encoder', OneHotEncoder(categories='auto'), [1])],\n",
        "    remainder='passthrough'\n",
        ")\n",
        "\n",
        "# fit_transform các thuộc tính\n",
        "X = np.array(ct.fit_transform(X))\n",
        "X = X[:, 1:]"
      ],
      "metadata": {
        "id": "ouqXI7J9cMLA"
      },
      "execution_count": null,
      "outputs": []
    },
    {
      "cell_type": "markdown",
      "source": [
        "Phân chia dữ liệu theo tỉ lệ 8:2 cho huấn luyện và kiểm tra"
      ],
      "metadata": {
        "id": "TzRcEXg5ce7u"
      }
    },
    {
      "cell_type": "code",
      "source": [
        "from sklearn.model_selection import train_test_split\n",
        "X_train, X_test, y_train, y_test = train_test_split(X, y, test_size = 0.2, random_state = 0)"
      ],
      "metadata": {
        "id": "lLb0w2Vv4LFO"
      },
      "execution_count": null,
      "outputs": []
    },
    {
      "cell_type": "markdown",
      "metadata": {
        "id": "kW3c7UYih0hT"
      },
      "source": [
        "Chuẩn hóa dữ liệu"
      ]
    },
    {
      "cell_type": "code",
      "metadata": {
        "id": "9fQlDPKCh8sc"
      },
      "source": [
        "from sklearn.preprocessing import StandardScaler\n",
        "\n",
        "# chuẩn hóa dữ liệu với Standard Scaler\n",
        "sc = StandardScaler()\n",
        "X_train = sc.fit_transform(X_train)\n",
        "X_test = sc.transform(X_test)"
      ],
      "execution_count": null,
      "outputs": []
    },
    {
      "cell_type": "markdown",
      "source": [
        "## Bước 3: Áp dụng mô hình phân loại ANN"
      ],
      "metadata": {
        "id": "63vGsvbi5ED7"
      }
    },
    {
      "cell_type": "markdown",
      "source": [
        "Thiết kế mô hình ANN"
      ],
      "metadata": {
        "id": "9smmGCuMdPLH"
      }
    },
    {
      "cell_type": "code",
      "metadata": {
        "id": "0KZ_-SJWclgM"
      },
      "source": [
        "# khởi tạo với keras.models.Sequential()\n",
        "ann = Sequential()\n",
        "\n",
        "# thêm lớp input và lớp ẩn đầu tiên với 6 unit, hàm kích hoạt là ReLU\n",
        "ann.add(Dense(units = 6, activation = 'relu', input_dim = 11))\n",
        "\n",
        "# thêm lớp ẩn thứ hai với 6 unit, hàm kích hoạt là ReLU\n",
        "ann.add(Dense(units = 6, activation = 'relu'))\n",
        "\n",
        "# thêm lớp output với hàm kích hoạt là sigmoid\n",
        "ann.add(Dense(units = 1, activation = 'sigmoid'))"
      ],
      "execution_count": null,
      "outputs": []
    },
    {
      "cell_type": "markdown",
      "source": [
        "Biên dịch mô hình"
      ],
      "metadata": {
        "id": "ubuaaT4udOa1"
      }
    },
    {
      "cell_type": "code",
      "source": [
        "# biên dịch mô hình sử dụng hàm tối ưu Adam, hàm độ lỗi binary cross_entropy, độ đo đánh giá là accuracy\n",
        "ann.compile(optimizer = 'adam', loss = 'binary_crossentropy', metrics =['accuracy'])"
      ],
      "metadata": {
        "id": "-U5DQO4IdIxs"
      },
      "execution_count": null,
      "outputs": []
    },
    {
      "cell_type": "markdown",
      "source": [
        "Huấn luyện mô hình\n"
      ],
      "metadata": {
        "id": "DIAFMzhGdYoF"
      }
    },
    {
      "cell_type": "code",
      "source": [
        "# huấn luyện mô hình với batch size là 32, huấn luyện với 150 epoch\n",
        "ann.fit(x=X_train, y=y_train, batch_size = 32, epochs = 150)"
      ],
      "metadata": {
        "id": "o1y9D1eedW3D",
        "colab": {
          "base_uri": "https://localhost:8080/"
        },
        "outputId": "67e015a7-b623-4570-e67d-8be6a5e1fda0"
      },
      "execution_count": null,
      "outputs": [
        {
          "output_type": "stream",
          "name": "stdout",
          "text": [
            "Epoch 1/150\n",
            "250/250 [==============================] - 1s 1ms/step - loss: 0.6443 - accuracy: 0.6747\n",
            "Epoch 2/150\n",
            "250/250 [==============================] - 0s 1ms/step - loss: 0.5088 - accuracy: 0.8000\n",
            "Epoch 3/150\n",
            "250/250 [==============================] - 0s 1ms/step - loss: 0.4685 - accuracy: 0.8030\n",
            "Epoch 4/150\n",
            "250/250 [==============================] - 0s 1ms/step - loss: 0.4449 - accuracy: 0.8075\n",
            "Epoch 5/150\n",
            "250/250 [==============================] - 0s 1ms/step - loss: 0.4301 - accuracy: 0.8121\n",
            "Epoch 6/150\n",
            "250/250 [==============================] - 0s 2ms/step - loss: 0.4170 - accuracy: 0.8158\n",
            "Epoch 7/150\n",
            "250/250 [==============================] - 0s 1ms/step - loss: 0.4029 - accuracy: 0.8261\n",
            "Epoch 8/150\n",
            "250/250 [==============================] - 0s 1ms/step - loss: 0.3882 - accuracy: 0.8372\n",
            "Epoch 9/150\n",
            "250/250 [==============================] - 0s 1ms/step - loss: 0.3754 - accuracy: 0.8454\n",
            "Epoch 10/150\n",
            "250/250 [==============================] - 0s 2ms/step - loss: 0.3660 - accuracy: 0.8504\n",
            "Epoch 11/150\n",
            "250/250 [==============================] - 0s 1ms/step - loss: 0.3594 - accuracy: 0.8529\n",
            "Epoch 12/150\n",
            "250/250 [==============================] - 0s 1ms/step - loss: 0.3555 - accuracy: 0.8547\n",
            "Epoch 13/150\n",
            "250/250 [==============================] - 0s 1ms/step - loss: 0.3522 - accuracy: 0.8562\n",
            "Epoch 14/150\n",
            "250/250 [==============================] - 0s 1ms/step - loss: 0.3500 - accuracy: 0.8570\n",
            "Epoch 15/150\n",
            "250/250 [==============================] - 0s 1ms/step - loss: 0.3482 - accuracy: 0.8583\n",
            "Epoch 16/150\n",
            "250/250 [==============================] - 0s 1ms/step - loss: 0.3461 - accuracy: 0.8576\n",
            "Epoch 17/150\n",
            "250/250 [==============================] - 0s 1ms/step - loss: 0.3448 - accuracy: 0.8593\n",
            "Epoch 18/150\n",
            "250/250 [==============================] - 0s 1ms/step - loss: 0.3439 - accuracy: 0.8590\n",
            "Epoch 19/150\n",
            "250/250 [==============================] - 0s 1ms/step - loss: 0.3428 - accuracy: 0.8610\n",
            "Epoch 20/150\n",
            "250/250 [==============================] - 0s 1ms/step - loss: 0.3420 - accuracy: 0.8604\n",
            "Epoch 21/150\n",
            "250/250 [==============================] - 0s 1ms/step - loss: 0.3416 - accuracy: 0.8602\n",
            "Epoch 22/150\n",
            "250/250 [==============================] - 0s 1ms/step - loss: 0.3409 - accuracy: 0.8612\n",
            "Epoch 23/150\n",
            "250/250 [==============================] - 0s 1ms/step - loss: 0.3403 - accuracy: 0.8610\n",
            "Epoch 24/150\n",
            "250/250 [==============================] - 0s 1ms/step - loss: 0.3398 - accuracy: 0.8604\n",
            "Epoch 25/150\n",
            "250/250 [==============================] - 0s 1ms/step - loss: 0.3394 - accuracy: 0.8619\n",
            "Epoch 26/150\n",
            "250/250 [==============================] - 0s 1ms/step - loss: 0.3390 - accuracy: 0.8622\n",
            "Epoch 27/150\n",
            "250/250 [==============================] - 0s 1ms/step - loss: 0.3387 - accuracy: 0.8621\n",
            "Epoch 28/150\n",
            "250/250 [==============================] - 0s 1ms/step - loss: 0.3387 - accuracy: 0.8608\n",
            "Epoch 29/150\n",
            "250/250 [==============================] - 0s 1ms/step - loss: 0.3381 - accuracy: 0.8622\n",
            "Epoch 30/150\n",
            "250/250 [==============================] - 0s 1ms/step - loss: 0.3376 - accuracy: 0.8629\n",
            "Epoch 31/150\n",
            "250/250 [==============================] - 0s 1ms/step - loss: 0.3377 - accuracy: 0.8619\n",
            "Epoch 32/150\n",
            "250/250 [==============================] - 0s 1ms/step - loss: 0.3375 - accuracy: 0.8609\n",
            "Epoch 33/150\n",
            "250/250 [==============================] - 0s 1ms/step - loss: 0.3370 - accuracy: 0.8626\n",
            "Epoch 34/150\n",
            "250/250 [==============================] - 0s 1ms/step - loss: 0.3366 - accuracy: 0.8624\n",
            "Epoch 35/150\n",
            "250/250 [==============================] - 0s 1ms/step - loss: 0.3367 - accuracy: 0.8614\n",
            "Epoch 36/150\n",
            "250/250 [==============================] - 0s 1ms/step - loss: 0.3361 - accuracy: 0.8619\n",
            "Epoch 37/150\n",
            "250/250 [==============================] - 0s 1ms/step - loss: 0.3360 - accuracy: 0.8614\n",
            "Epoch 38/150\n",
            "250/250 [==============================] - 0s 1ms/step - loss: 0.3361 - accuracy: 0.8629\n",
            "Epoch 39/150\n",
            "250/250 [==============================] - 0s 1ms/step - loss: 0.3357 - accuracy: 0.8630\n",
            "Epoch 40/150\n",
            "250/250 [==============================] - 0s 1ms/step - loss: 0.3361 - accuracy: 0.8621\n",
            "Epoch 41/150\n",
            "250/250 [==============================] - 0s 1ms/step - loss: 0.3356 - accuracy: 0.8620\n",
            "Epoch 42/150\n",
            "250/250 [==============================] - 0s 1ms/step - loss: 0.3355 - accuracy: 0.8641\n",
            "Epoch 43/150\n",
            "250/250 [==============================] - 0s 1ms/step - loss: 0.3352 - accuracy: 0.8620\n",
            "Epoch 44/150\n",
            "250/250 [==============================] - 0s 1ms/step - loss: 0.3354 - accuracy: 0.8620\n",
            "Epoch 45/150\n",
            "250/250 [==============================] - 0s 1ms/step - loss: 0.3352 - accuracy: 0.8634\n",
            "Epoch 46/150\n",
            "250/250 [==============================] - 0s 1ms/step - loss: 0.3347 - accuracy: 0.8627\n",
            "Epoch 47/150\n",
            "250/250 [==============================] - 0s 1ms/step - loss: 0.3347 - accuracy: 0.8626\n",
            "Epoch 48/150\n",
            "250/250 [==============================] - 0s 1ms/step - loss: 0.3349 - accuracy: 0.8624\n",
            "Epoch 49/150\n",
            "250/250 [==============================] - 0s 2ms/step - loss: 0.3349 - accuracy: 0.8636\n",
            "Epoch 50/150\n",
            "250/250 [==============================] - 0s 2ms/step - loss: 0.3345 - accuracy: 0.8627\n",
            "Epoch 51/150\n",
            "250/250 [==============================] - 0s 2ms/step - loss: 0.3341 - accuracy: 0.8624\n",
            "Epoch 52/150\n",
            "250/250 [==============================] - 0s 2ms/step - loss: 0.3346 - accuracy: 0.8631\n",
            "Epoch 53/150\n",
            "250/250 [==============================] - 0s 2ms/step - loss: 0.3338 - accuracy: 0.8635\n",
            "Epoch 54/150\n",
            "250/250 [==============================] - 0s 2ms/step - loss: 0.3338 - accuracy: 0.8620\n",
            "Epoch 55/150\n",
            "250/250 [==============================] - 0s 2ms/step - loss: 0.3340 - accuracy: 0.8619\n",
            "Epoch 56/150\n",
            "250/250 [==============================] - 0s 1ms/step - loss: 0.3337 - accuracy: 0.8630\n",
            "Epoch 57/150\n",
            "250/250 [==============================] - 0s 1ms/step - loss: 0.3336 - accuracy: 0.8641\n",
            "Epoch 58/150\n",
            "250/250 [==============================] - 0s 1ms/step - loss: 0.3334 - accuracy: 0.8622\n",
            "Epoch 59/150\n",
            "250/250 [==============================] - 0s 1ms/step - loss: 0.3329 - accuracy: 0.8641\n",
            "Epoch 60/150\n",
            "250/250 [==============================] - 0s 2ms/step - loss: 0.3331 - accuracy: 0.8633\n",
            "Epoch 61/150\n",
            "250/250 [==============================] - 0s 1ms/step - loss: 0.3331 - accuracy: 0.8618\n",
            "Epoch 62/150\n",
            "250/250 [==============================] - 0s 1ms/step - loss: 0.3326 - accuracy: 0.8633\n",
            "Epoch 63/150\n",
            "250/250 [==============================] - 0s 1ms/step - loss: 0.3332 - accuracy: 0.8630\n",
            "Epoch 64/150\n",
            "250/250 [==============================] - 0s 1ms/step - loss: 0.3327 - accuracy: 0.8626\n",
            "Epoch 65/150\n",
            "250/250 [==============================] - 0s 1ms/step - loss: 0.3329 - accuracy: 0.8648\n",
            "Epoch 66/150\n",
            "250/250 [==============================] - 0s 1ms/step - loss: 0.3327 - accuracy: 0.8629\n",
            "Epoch 67/150\n",
            "250/250 [==============================] - 0s 2ms/step - loss: 0.3325 - accuracy: 0.8644\n",
            "Epoch 68/150\n",
            "250/250 [==============================] - 0s 1ms/step - loss: 0.3327 - accuracy: 0.8654\n",
            "Epoch 69/150\n",
            "250/250 [==============================] - 0s 1ms/step - loss: 0.3325 - accuracy: 0.8624\n",
            "Epoch 70/150\n",
            "250/250 [==============================] - 0s 1ms/step - loss: 0.3328 - accuracy: 0.8633\n",
            "Epoch 71/150\n",
            "250/250 [==============================] - 0s 1ms/step - loss: 0.3326 - accuracy: 0.8629\n",
            "Epoch 72/150\n",
            "250/250 [==============================] - 0s 1ms/step - loss: 0.3324 - accuracy: 0.8644\n",
            "Epoch 73/150\n",
            "250/250 [==============================] - 0s 1ms/step - loss: 0.3322 - accuracy: 0.8648\n",
            "Epoch 74/150\n",
            "250/250 [==============================] - 0s 1ms/step - loss: 0.3324 - accuracy: 0.8644\n",
            "Epoch 75/150\n",
            "250/250 [==============================] - 0s 1ms/step - loss: 0.3322 - accuracy: 0.8631\n",
            "Epoch 76/150\n",
            "250/250 [==============================] - 0s 1ms/step - loss: 0.3322 - accuracy: 0.8639\n",
            "Epoch 77/150\n",
            "250/250 [==============================] - 0s 1ms/step - loss: 0.3322 - accuracy: 0.8645\n",
            "Epoch 78/150\n",
            "250/250 [==============================] - 0s 1ms/step - loss: 0.3320 - accuracy: 0.8624\n",
            "Epoch 79/150\n",
            "250/250 [==============================] - 0s 1ms/step - loss: 0.3322 - accuracy: 0.8644\n",
            "Epoch 80/150\n",
            "250/250 [==============================] - 0s 1ms/step - loss: 0.3320 - accuracy: 0.8641\n",
            "Epoch 81/150\n",
            "250/250 [==============================] - 0s 1ms/step - loss: 0.3319 - accuracy: 0.8641\n",
            "Epoch 82/150\n",
            "250/250 [==============================] - 0s 1ms/step - loss: 0.3319 - accuracy: 0.8626\n",
            "Epoch 83/150\n",
            "250/250 [==============================] - 0s 1ms/step - loss: 0.3318 - accuracy: 0.8634\n",
            "Epoch 84/150\n",
            "250/250 [==============================] - 0s 1ms/step - loss: 0.3319 - accuracy: 0.8627\n",
            "Epoch 85/150\n",
            "250/250 [==============================] - 0s 1ms/step - loss: 0.3318 - accuracy: 0.8641\n",
            "Epoch 86/150\n",
            "250/250 [==============================] - 0s 1ms/step - loss: 0.3321 - accuracy: 0.8625\n",
            "Epoch 87/150\n",
            "250/250 [==============================] - 0s 1ms/step - loss: 0.3313 - accuracy: 0.8633\n",
            "Epoch 88/150\n",
            "250/250 [==============================] - 0s 1ms/step - loss: 0.3316 - accuracy: 0.8639\n",
            "Epoch 89/150\n",
            "250/250 [==============================] - 0s 1ms/step - loss: 0.3313 - accuracy: 0.8635\n",
            "Epoch 90/150\n",
            "250/250 [==============================] - 0s 1ms/step - loss: 0.3317 - accuracy: 0.8633\n",
            "Epoch 91/150\n",
            "250/250 [==============================] - 0s 1ms/step - loss: 0.3315 - accuracy: 0.8636\n",
            "Epoch 92/150\n",
            "250/250 [==============================] - 0s 1ms/step - loss: 0.3314 - accuracy: 0.8631\n",
            "Epoch 93/150\n",
            "250/250 [==============================] - 0s 1ms/step - loss: 0.3316 - accuracy: 0.8630\n",
            "Epoch 94/150\n",
            "250/250 [==============================] - 0s 1ms/step - loss: 0.3310 - accuracy: 0.8625\n",
            "Epoch 95/150\n",
            "250/250 [==============================] - 0s 1ms/step - loss: 0.3310 - accuracy: 0.8624\n",
            "Epoch 96/150\n",
            "250/250 [==============================] - 0s 1ms/step - loss: 0.3314 - accuracy: 0.8622\n",
            "Epoch 97/150\n",
            "250/250 [==============================] - 0s 1ms/step - loss: 0.3313 - accuracy: 0.8634\n",
            "Epoch 98/150\n",
            "250/250 [==============================] - 0s 1ms/step - loss: 0.3310 - accuracy: 0.8646\n",
            "Epoch 99/150\n",
            "250/250 [==============================] - 0s 1ms/step - loss: 0.3310 - accuracy: 0.8624\n",
            "Epoch 100/150\n",
            "250/250 [==============================] - 0s 1ms/step - loss: 0.3301 - accuracy: 0.8633\n",
            "Epoch 101/150\n",
            "250/250 [==============================] - 0s 1ms/step - loss: 0.3307 - accuracy: 0.8619\n",
            "Epoch 102/150\n",
            "250/250 [==============================] - 0s 2ms/step - loss: 0.3310 - accuracy: 0.8635\n",
            "Epoch 103/150\n",
            "250/250 [==============================] - 0s 1ms/step - loss: 0.3310 - accuracy: 0.8659\n",
            "Epoch 104/150\n",
            "250/250 [==============================] - 0s 1ms/step - loss: 0.3312 - accuracy: 0.8619\n",
            "Epoch 105/150\n",
            "250/250 [==============================] - 0s 1ms/step - loss: 0.3307 - accuracy: 0.8634\n",
            "Epoch 106/150\n",
            "250/250 [==============================] - 0s 2ms/step - loss: 0.3309 - accuracy: 0.8636\n",
            "Epoch 107/150\n",
            "250/250 [==============================] - 0s 2ms/step - loss: 0.3308 - accuracy: 0.8631\n",
            "Epoch 108/150\n",
            "250/250 [==============================] - 0s 1ms/step - loss: 0.3304 - accuracy: 0.8633\n",
            "Epoch 109/150\n",
            "250/250 [==============================] - 0s 1ms/step - loss: 0.3309 - accuracy: 0.8634\n",
            "Epoch 110/150\n",
            "250/250 [==============================] - 0s 2ms/step - loss: 0.3307 - accuracy: 0.8637\n",
            "Epoch 111/150\n",
            "250/250 [==============================] - 0s 2ms/step - loss: 0.3309 - accuracy: 0.8640\n",
            "Epoch 112/150\n",
            "250/250 [==============================] - 0s 2ms/step - loss: 0.3309 - accuracy: 0.8612\n",
            "Epoch 113/150\n",
            "250/250 [==============================] - 0s 1ms/step - loss: 0.3311 - accuracy: 0.8644\n",
            "Epoch 114/150\n",
            "250/250 [==============================] - 0s 1ms/step - loss: 0.3308 - accuracy: 0.8626\n",
            "Epoch 115/150\n",
            "250/250 [==============================] - 0s 1ms/step - loss: 0.3307 - accuracy: 0.8646\n",
            "Epoch 116/150\n",
            "250/250 [==============================] - 0s 2ms/step - loss: 0.3304 - accuracy: 0.8612\n",
            "Epoch 117/150\n",
            "250/250 [==============================] - 0s 2ms/step - loss: 0.3303 - accuracy: 0.8635\n",
            "Epoch 118/150\n",
            "250/250 [==============================] - 0s 2ms/step - loss: 0.3306 - accuracy: 0.8636\n",
            "Epoch 119/150\n",
            "250/250 [==============================] - 0s 1ms/step - loss: 0.3303 - accuracy: 0.8611\n",
            "Epoch 120/150\n",
            "250/250 [==============================] - 0s 2ms/step - loss: 0.3305 - accuracy: 0.8634\n",
            "Epoch 121/150\n",
            "250/250 [==============================] - 0s 1ms/step - loss: 0.3307 - accuracy: 0.8630\n",
            "Epoch 122/150\n",
            "250/250 [==============================] - 0s 2ms/step - loss: 0.3304 - accuracy: 0.8625\n",
            "Epoch 123/150\n",
            "250/250 [==============================] - 0s 1ms/step - loss: 0.3304 - accuracy: 0.8627\n",
            "Epoch 124/150\n",
            "250/250 [==============================] - 0s 2ms/step - loss: 0.3306 - accuracy: 0.8630\n",
            "Epoch 125/150\n",
            "250/250 [==============================] - 0s 1ms/step - loss: 0.3301 - accuracy: 0.8629\n",
            "Epoch 126/150\n",
            "250/250 [==============================] - 0s 1ms/step - loss: 0.3306 - accuracy: 0.8624\n",
            "Epoch 127/150\n",
            "250/250 [==============================] - 0s 1ms/step - loss: 0.3304 - accuracy: 0.8635\n",
            "Epoch 128/150\n",
            "250/250 [==============================] - 0s 1ms/step - loss: 0.3302 - accuracy: 0.8641\n",
            "Epoch 129/150\n",
            "250/250 [==============================] - 0s 1ms/step - loss: 0.3301 - accuracy: 0.8631\n",
            "Epoch 130/150\n",
            "250/250 [==============================] - 0s 1ms/step - loss: 0.3304 - accuracy: 0.8625\n",
            "Epoch 131/150\n",
            "250/250 [==============================] - 0s 1ms/step - loss: 0.3304 - accuracy: 0.8644\n",
            "Epoch 132/150\n",
            "250/250 [==============================] - 0s 1ms/step - loss: 0.3305 - accuracy: 0.8635\n",
            "Epoch 133/150\n",
            "250/250 [==============================] - 0s 1ms/step - loss: 0.3303 - accuracy: 0.8629\n",
            "Epoch 134/150\n",
            "250/250 [==============================] - 0s 1ms/step - loss: 0.3302 - accuracy: 0.8646\n",
            "Epoch 135/150\n",
            "250/250 [==============================] - 0s 1ms/step - loss: 0.3305 - accuracy: 0.8612\n",
            "Epoch 136/150\n",
            "250/250 [==============================] - 0s 1ms/step - loss: 0.3301 - accuracy: 0.8627\n",
            "Epoch 137/150\n",
            "250/250 [==============================] - 0s 1ms/step - loss: 0.3298 - accuracy: 0.8636\n",
            "Epoch 138/150\n",
            "250/250 [==============================] - 0s 1ms/step - loss: 0.3305 - accuracy: 0.8636\n",
            "Epoch 139/150\n",
            "250/250 [==============================] - 0s 1ms/step - loss: 0.3301 - accuracy: 0.8640\n",
            "Epoch 140/150\n",
            "250/250 [==============================] - 0s 1ms/step - loss: 0.3303 - accuracy: 0.8620\n",
            "Epoch 141/150\n",
            "250/250 [==============================] - 0s 1ms/step - loss: 0.3299 - accuracy: 0.8626\n",
            "Epoch 142/150\n",
            "250/250 [==============================] - 0s 1ms/step - loss: 0.3306 - accuracy: 0.8631\n",
            "Epoch 143/150\n",
            "250/250 [==============================] - 0s 1ms/step - loss: 0.3303 - accuracy: 0.8610\n",
            "Epoch 144/150\n",
            "250/250 [==============================] - 0s 1ms/step - loss: 0.3302 - accuracy: 0.8635\n",
            "Epoch 145/150\n",
            "250/250 [==============================] - 0s 1ms/step - loss: 0.3299 - accuracy: 0.8633\n",
            "Epoch 146/150\n",
            "250/250 [==============================] - 0s 1ms/step - loss: 0.3300 - accuracy: 0.8627\n",
            "Epoch 147/150\n",
            "250/250 [==============================] - 0s 1ms/step - loss: 0.3306 - accuracy: 0.8640\n",
            "Epoch 148/150\n",
            "250/250 [==============================] - 0s 1ms/step - loss: 0.3301 - accuracy: 0.8626\n",
            "Epoch 149/150\n",
            "250/250 [==============================] - 0s 2ms/step - loss: 0.3299 - accuracy: 0.8625\n",
            "Epoch 150/150\n",
            "250/250 [==============================] - 0s 1ms/step - loss: 0.3304 - accuracy: 0.8619\n"
          ]
        },
        {
          "output_type": "execute_result",
          "data": {
            "text/plain": [
              "<keras.callbacks.History at 0x7f1efd10fc90>"
            ]
          },
          "metadata": {},
          "execution_count": 56
        }
      ]
    },
    {
      "cell_type": "markdown",
      "source": [
        "## Bước 4: Dự đoán kết quả và đánh giá mô hình"
      ],
      "metadata": {
        "id": "Qr5grNM85Y4f"
      }
    },
    {
      "cell_type": "markdown",
      "metadata": {
        "id": "oir-niKa6fH-"
      },
      "source": [
        "Dự đoán một điểm dữ liệu mới với các thông tin sau:\n",
        "Liệu người dùng này sẽ tiếp tục hay đóng tài khoản ngân hàng?\n",
        "\n",
        "1. Geography: France\n",
        "\n",
        "2. Credit Score: 600\n",
        "\n",
        "3. Gender: Male\n",
        "\n",
        "4. Age: 40 years old\n",
        "\n",
        "5. Tenure: 3 years\n",
        "\n",
        "6. Balance: $ 60000\n",
        "\n",
        "7. Number of Products: 2\n",
        "\n",
        "8. Does this customer have a credit card ? Yes\n",
        "\n",
        "9. Is this customer an Active Member: Yes\n",
        "\n",
        "10. Estimated Salary: $ 50000"
      ]
    },
    {
      "cell_type": "code",
      "metadata": {
        "id": "36AFifh36fIA",
        "colab": {
          "base_uri": "https://localhost:8080/"
        },
        "outputId": "7ce2167f-597a-4db6-87c4-5ddd1e2c256e"
      },
      "source": [
        "# dự đoán kết quả trên điểm dữ liệu mới, đặt ngưỡng là 0.5\n",
        "pred = ann.predict(sc.transform(np.array([[0.0, 0, 600, 1, 40, 3, 60000, 2, 1, 1, 50000]])))\n",
        "pred = (pred > 0.5)\n",
        "print(pred) # Khách hàng sẽ ở lại"
      ],
      "execution_count": null,
      "outputs": [
        {
          "output_type": "stream",
          "name": "stdout",
          "text": [
            "[[False]]\n"
          ]
        }
      ]
    },
    {
      "cell_type": "markdown",
      "metadata": {
        "id": "swXw84e06fIB"
      },
      "source": [
        "Dự đoán kết quả trên toàn bộ tập kiểm tra"
      ]
    },
    {
      "cell_type": "code",
      "metadata": {
        "id": "MMRa2COu3CGP",
        "colab": {
          "base_uri": "https://localhost:8080/"
        },
        "outputId": "7ff8f716-749e-4403-99d5-534a1632f8d6"
      },
      "source": [
        "# dự đoán dữ liệu trên toàn bộ tập kiểm tra với ngưỡng là 0.5\n",
        "y_pred = ann.predict(X_test)\n",
        "y_pred = (y_pred > 0.5)\n",
        "\n",
        "print(np.concatenate((y_pred.reshape(len(y_pred),1), y_test.reshape(len(y_test),1)),1))"
      ],
      "execution_count": null,
      "outputs": [
        {
          "output_type": "stream",
          "name": "stdout",
          "text": [
            "[[0 0]\n",
            " [0 1]\n",
            " [0 0]\n",
            " ...\n",
            " [0 0]\n",
            " [0 0]\n",
            " [0 0]]\n"
          ]
        }
      ]
    },
    {
      "cell_type": "markdown",
      "metadata": {
        "id": "cbbdeIZp6fIC"
      },
      "source": [
        "Thiết lập Confusion Matrix để đánh giá kết quả mô hình"
      ]
    },
    {
      "cell_type": "code",
      "metadata": {
        "id": "00tL42ee6fIC",
        "colab": {
          "base_uri": "https://localhost:8080/"
        },
        "outputId": "964868f7-c447-47fa-81c4-090abd7752ed"
      },
      "source": [
        "# make the confusion matrix\n",
        "from sklearn.metrics import confusion_matrix, accuracy_score, precision_score, recall_score\n",
        "cm = confusion_matrix(y_test, y_pred)\n",
        "print(cm)"
      ],
      "execution_count": null,
      "outputs": [
        {
          "output_type": "stream",
          "name": "stdout",
          "text": [
            "[[1518   77]\n",
            " [ 199  206]]\n"
          ]
        },
        {
          "output_type": "execute_result",
          "data": {
            "text/plain": [
              "0.862"
            ]
          },
          "metadata": {},
          "execution_count": 64
        }
      ]
    },
    {
      "cell_type": "code",
      "source": [
        "# tính độ chính xác với các độ đo: accuracy, precision, recall\n",
        "acc = accuracy_score(y_test, y_pred)\n",
        "precision = precision_score(y_test, y_pred)\n",
        "recall = recall_score(y_test, y_pred)"
      ],
      "metadata": {
        "id": "_AwIoYulj_QL"
      },
      "execution_count": null,
      "outputs": []
    },
    {
      "cell_type": "code",
      "source": [
        "import seaborn as sns # trực quan hóa dữ liệu\n",
        "\n",
        "# khởi tạo figure\n",
        "labels = [0, 1] # 'Exited'\n",
        "fig, ax = plt.subplots()\n",
        "tick_marks = np.arange(len(labels))\n",
        "plt.xticks(tick_marks, labels)\n",
        "plt.yticks(tick_marks, labels)\n",
        "\n",
        "# tạo confusion matrix và vẽ heatmap\n",
        "sns.heatmap(pd.DataFrame(cm), annot = True, cmap = \"Blues\" ,fmt = 'g')\n",
        "ax.xaxis.set_label_position(\"bottom\")\n",
        "plt.tight_layout()\n",
        "plt.title('Confusion Matrix')\n",
        "plt.ylabel('Ground-truth')\n",
        "plt.xlabel('Prediction')"
      ],
      "metadata": {
        "id": "1pAK4qXj2gmi",
        "colab": {
          "base_uri": "https://localhost:8080/",
          "height": 345
        },
        "outputId": "e55433a4-f805-4a84-dab6-f142f7a8572c"
      },
      "execution_count": null,
      "outputs": [
        {
          "output_type": "execute_result",
          "data": {
            "text/plain": [
              "Text(0.5, 15.0, 'Prediction')"
            ]
          },
          "metadata": {},
          "execution_count": 69
        },
        {
          "output_type": "display_data",
          "data": {
            "image/png": "[encoded data removed]",
            "text/plain": [
              "<Figure size 432x288 with 2 Axes>"
            ]
          },
          "metadata": {
            "needs_background": "light"
          }
        }
      ]
    },
    {
      "cell_type": "markdown",
      "source": [
        "## Câu hỏi: Bạn có nhận xét gì về mô hình ANN vừa được huấn luyện?\n",
        "Trả lời: \n",
        "\n",
        ". Ta có thể thấy ô (TN - True negative) số các lần dự đoán khách hàng sẽ ở lại đúng khá nhiều (1518/1595).\n",
        "\n",
        ". Tuy vậy, mô hình còn nhầm lẫn giữa việc khách hàng có rời hay không rời khỏi ngân hàng (ô FN và ô TP) có kết quả khá sát nhau (199, 206) --> Mô hình hay đưa ra false negative dù người sử dụng đó không còn sử dụng dịch vụ của ngân hàng.\n",
        "\n",
        ". Có 77 người ở lại ngân hàng nhưng mô hình dự đoán sai.\n",
        "\n",
        ". Mô hình cần cải thiện TP, giảm FN. Và khi tiếp cận sớm những người trong danh sách FP sẽ cải thiện trải nghiệm người dùng của ngân hàng, gia tăng những người dùng trong tập FP quay trở lại sử dụng ngân hàng.\n",
        "\n",
        ".Với tỉ lệ dự đoán đúng 83.2%, mô hình còn có khả năng học và phát triển nếu ứng dụng các phương pháp học khác hoặc mô hình khác hiệu quả hơn."
      ],
      "metadata": {
        "id": "C-GxpogukbCH"
      }
    },
    {
      "cell_type": "markdown",
      "source": [
        "#<center> Chúc các bạn làm bài tốt.\n",
        "---"
      ],
      "metadata": {
        "id": "VacvkjXJ94uG"
      }
    }
  ]
}